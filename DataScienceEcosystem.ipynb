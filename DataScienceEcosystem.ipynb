{
 "cells": [
  {
   "cell_type": "markdown",
   "id": "3a706132",
   "metadata": {},
   "source": [
    "# Data Science Tools and Ecosystem \n"
   ]
  },
  {
   "cell_type": "markdown",
   "id": "e995c728",
   "metadata": {},
   "source": [
    "in this Notebook,Data Science Tools and Ecosustem are summarized. "
   ]
  },
  {
   "cell_type": "markdown",
   "id": "22bc6e8b",
   "metadata": {},
   "source": [
    "Some of the popular langusges that Data Scientists use are:"
   ]
  },
  {
   "cell_type": "markdown",
   "id": "177864f3",
   "metadata": {},
   "source": [
    "1.Python\n",
    "\n",
    "2.R\n",
    "\n",
    "3.SQL\n",
    "\n",
    "4.Scala\n",
    "\n",
    "5.Java\n",
    "\n",
    "6.C++\n",
    "\n",
    "7.Julia\n",
    "\n",
    "8.JavaScript\n",
    "\n",
    "9.PHP\n",
    "\n",
    "10.Go\n",
    "\n",
    "11.Ruby\n",
    "\n",
    "12.Visual Basic"
   ]
  },
  {
   "cell_type": "markdown",
   "id": "90a1d841",
   "metadata": {},
   "source": [
    "Some of commonly used libraries used by Data Scientists include:"
   ]
  },
  {
   "cell_type": "markdown",
   "id": "50eb6c60",
   "metadata": {},
   "source": [
    "1.Pandas\n",
    "\n",
    "2.Numpy\n",
    "\n",
    "3.Matplotlib\n",
    "\n",
    "4.Seaborn\n",
    "\n",
    "5.Scikit-learn\n",
    "\n",
    "6.Keras\n",
    "\n",
    "7.TensorFlow\n",
    "\n",
    "8.PyTorch\n",
    "\n",
    "9.Apache Spark\n",
    "\n",
    "10.Vegas\n",
    "\n",
    "11.Big DL\n",
    "\n",
    "12.Ggplot2"
   ]
  },
  {
   "cell_type": "markdown",
   "id": "7fc5fab7",
   "metadata": {},
   "source": [
    "| Data ScienceTool |\n",
    "|------------|\n",
    "| Jupyter lab |\n",
    "| R Studio |\n",
    "| VS Studio |\n"
   ]
  },
  {
   "cell_type": "markdown",
   "id": "6c83076b",
   "metadata": {},
   "source": [
    "Below are few examples of evalutinf  arithmetic expressions in Python"
   ]
  },
  {
   "cell_type": "code",
   "execution_count": 2,
   "id": "8f25c8c8",
   "metadata": {
    "scrolled": true
   },
   "outputs": [
    {
     "data": {
      "text/plain": [
       "17"
      ]
     },
     "execution_count": 2,
     "metadata": {},
     "output_type": "execute_result"
    }
   ],
   "source": [
    "# This a simple arithmetic expression to mutiply then add integers\n",
    "(3*4)+5"
   ]
  },
  {
   "cell_type": "code",
   "execution_count": 4,
   "id": "d110c823",
   "metadata": {},
   "outputs": [
    {
     "data": {
      "text/plain": [
       "3"
      ]
     },
     "execution_count": 4,
     "metadata": {},
     "output_type": "execute_result"
    }
   ],
   "source": [
    "# This will convert 200 minutes to hours by diving by 60\n",
    "200//60"
   ]
  },
  {
   "cell_type": "markdown",
   "id": "830ea1f3",
   "metadata": {},
   "source": [
    "### objectives"
   ]
  },
  {
   "cell_type": "markdown",
   "id": "f2951805",
   "metadata": {},
   "source": [
    "- Add comments to code\n",
    "- create markdown calls \n",
    "- add ordered \n",
    "- Fornat "
   ]
  },
  {
   "cell_type": "markdown",
   "id": "65d8e107",
   "metadata": {},
   "source": [
    "# Author(s)\n"
   ]
  },
  {
   "cell_type": "markdown",
   "id": "3bb0c44b",
   "metadata": {},
   "source": [
    "Rayan altalhi"
   ]
  },
  {
   "cell_type": "code",
   "execution_count": null,
   "id": "06c6db7d",
   "metadata": {},
   "outputs": [],
   "source": []
  }
 ],
 "metadata": {
  "kernelspec": {
   "display_name": "Python 3 (ipykernel)",
   "language": "python",
   "name": "python3"
  },
  "language_info": {
   "codemirror_mode": {
    "name": "ipython",
    "version": 3
   },
   "file_extension": ".py",
   "mimetype": "text/x-python",
   "name": "python",
   "nbconvert_exporter": "python",
   "pygments_lexer": "ipython3",
   "version": "3.11.5"
  }
 },
 "nbformat": 4,
 "nbformat_minor": 5
}
